{
 "cells": [
  {
   "cell_type": "code",
   "execution_count": 1,
   "metadata": {
    "collapsed": false
   },
   "outputs": [],
   "source": [
    "import yaml\n",
    "\n",
    "import numpy\n",
    "import lsst.afw.cameraGeom as cameraGeom\n",
    "import lsst.afw.geom as afwGeom\n",
    "from lsst.afw.table import AmpInfoCatalog, AmpInfoTable, LL\n",
    "from lsst.afw.cameraGeom.cameraFactory import makeDetector"
   ]
  },
  {
   "cell_type": "code",
   "execution_count": 2,
   "metadata": {
    "collapsed": false
   },
   "outputs": [],
   "source": [
    "class Ts3(cameraGeom.Camera):\n",
    "    \"\"\"The Test Stand 3 camera (in so far as it is a camera)\n",
    "    \"\"\"\n",
    "\n",
    "    def __init__(self, cameraYamlFile):\n",
    "        \"\"\"Construct a TestCamera\n",
    "        \"\"\"\n",
    "        with file(cameraYamlFile) as fd:\n",
    "            cameraParams = yaml.load(fd, Loader=yaml.Loader)\n",
    "\n",
    "        plateScale = afwGeom.Angle(cameraParams[\"plateScale\"], afwGeom.arcseconds)\n",
    "        radialCoeffs = numpy.array(cameraParams[\"radialCoeffs\"])/plateScale.asRadians()\n",
    "        focalPlaneToPupil = afwGeom.RadialXYTransform(radialCoeffs)\n",
    "        pupilToFocalPlane = afwGeom.InvertedXYTransform(focalPlaneToPupil)\n",
    "        cameraTransformMap = cameraGeom.CameraTransformMap(cameraGeom.FOCAL_PLANE,\n",
    "                                                           {cameraGeom.PUPIL: pupilToFocalPlane})\n",
    "        detectorList = self._makeDetectorList(cameraParams[\"CCDs\"], pupilToFocalPlane, plateScale)\n",
    "        cameraGeom.Camera.__init__(self, \"ts3\", detectorList, cameraTransformMap)\n",
    "\n",
    "    def _makeDetectorList(self, ccdParams, focalPlaneToPupil, plateScale):\n",
    "        \"\"\"!Make a list of detectors\n",
    "        @param[in] ccdParams  Dict of YAML descriptions of CCDs\n",
    "        @param[in] focalPlaneToPupil  lsst.afw.geom.XYTransform from FOCAL_PLANE to PUPIL coordinates\n",
    "        @param[in] plateScale  plate scale, in angle on sky/mm\n",
    "        @return a list of detectors (lsst.afw.cameraGeom.Detector)\n",
    "        \"\"\"\n",
    "        detectorList = []\n",
    "        detectorConfigList = self._makeDetectorConfigList(ccdParams)\n",
    "        for ccd, detectorConfig in zip(ccdParams.values(), detectorConfigList):\n",
    "            ampInfoCatalog = self._makeAmpInfoCatalog(ccd)\n",
    "            detector = makeDetector(detectorConfig, ampInfoCatalog, focalPlaneToPupil)\n",
    "            detectorList.append(detector)\n",
    "        return detectorList\n",
    "\n",
    "    def _makeDetectorConfigList(self, ccdParams):\n",
    "        \"\"\"!Make a list of detector configs\n",
    "\n",
    "        @return a list of detector configs (lsst.afw.cameraGeom.DetectorConfig)\n",
    "        \"\"\"\n",
    "        detectorConfigs = []\n",
    "        for name, ccd in ccdParams.items():\n",
    "            detectorConfig = cameraGeom.DetectorConfig()\n",
    "            detectorConfigs.append(detectorConfig)\n",
    "\n",
    "            detectorConfig.name = name\n",
    "            detectorConfig.id = ccd['id']\n",
    "            detectorConfig.serial = ccd['serial']\n",
    "            detectorConfig.detectorType = ccd['detectorType']\n",
    "            # This is the orientation we need to put the serial direction along the x-axis\n",
    "            detectorConfig.bbox_x0, detectorConfig.bbox_y0 = ccd['bbox'][0]\n",
    "            detectorConfig.bbox_x1, detectorConfig.bbox_y1 = ccd['bbox'][1]\n",
    "            detectorConfig.pixelSize_x, detectorConfig.pixelSize_y = ccd['pixelSize']\n",
    "            detectorConfig.transformDict.nativeSys = ccd['transformDict']['nativeSys']\n",
    "            transforms = ccd['transformDict']['transforms']\n",
    "            detectorConfig.transformDict.transforms = None if transforms == 'None' else transforms\n",
    "            detectorConfig.refpos_x, detectorConfig.refpos_y = ccd['refpos']\n",
    "            detectorConfig.offset_x, detectorConfig.offset_y = ccd['offset']\n",
    "            detectorConfig.transposeDetector = ccd['transposeDetector']\n",
    "            detectorConfig.pitchDeg = ccd['pitch']\n",
    "            detectorConfig.yawDeg = ccd['yaw']\n",
    "            detectorConfig.rollDeg = ccd['roll']\n",
    "        \n",
    "        return detectorConfigs\n",
    "\n",
    "    def _makeAmpInfoCatalog(self, ccd):\n",
    "        \"\"\"Construct an amplifier info catalog\n",
    "        \"\"\"\n",
    "        # Much of this will need to be filled in when we know it.\n",
    "        assert len(ccd['amplifiers']) > 0\n",
    "        amp = ccd['amplifiers'].values()[0]\n",
    "        xDataExtent, yDataExtent = amp['dataExtent']  # trimmed\n",
    "\n",
    "        extended = amp['extended']\n",
    "        h_overscan = amp['h_overscan']\n",
    "        v_overscan = amp['v_overscan']\n",
    "        nRowPreParallelTransfer = amp['nRowPreParallelTransfer']\n",
    "\n",
    "        xRawExtent = extended                + xDataExtent + h_overscan\n",
    "        yRawExtent = nRowPreParallelTransfer + yDataExtent + v_overscan\n",
    "        \n",
    "        from lsst.afw.table import LL, LR, UL, UR\n",
    "        readCorners = dict(LL = LL, LR = LR, UL = UL, UR = UR)\n",
    "\n",
    "        schema = AmpInfoTable.makeMinimalSchema()\n",
    "\n",
    "        linThreshKey = schema.addField('linearityThreshold', type=float)\n",
    "        linMaxKey = schema.addField('linearityMaximum', type=float)\n",
    "        linUnitsKey = schema.addField('linearityUnits', type=str, size=9)\n",
    "        # end placeholder\n",
    "        self.ampInfoDict = {}\n",
    "        ampCatalog = AmpInfoCatalog(schema)\n",
    "        for name, amp in ccd['amplifiers'].items():\n",
    "            record = ampCatalog.addNew()\n",
    "            record.setName(name)\n",
    "\n",
    "            ix, iy = amp['ixy']\n",
    "            record.setBBox(afwGeom.BoxI(\n",
    "                    afwGeom.PointI(ix*xDataExtent, iy*yDataExtent), afwGeom.ExtentI(xDataExtent, yDataExtent),\n",
    "                ))\n",
    "\n",
    "            record.setRawBBox(afwGeom.Box2I(\n",
    "                afwGeom.Point2I(0, 0),\n",
    "                afwGeom.Extent2I(xRawExtent, yRawExtent),\n",
    "            ))\n",
    "            record.setRawDataBBox(afwGeom.Box2I(\n",
    "                afwGeom.Point2I(extended, nRowPreParallelTransfer),\n",
    "                afwGeom.Extent2I(xDataExtent, yDataExtent),\n",
    "            ))\n",
    "            record.setRawHorizontalOverscanBBox(afwGeom.Box2I(\n",
    "                afwGeom.Point2I(extended + xDataExtent, nRowPreParallelTransfer),\n",
    "                afwGeom.Extent2I(h_overscan, yDataExtent),\n",
    "            ))\n",
    "            record.setRawVerticalOverscanBBox(afwGeom.Box2I(\n",
    "                afwGeom.Point2I(extended, nRowPreParallelTransfer + yDataExtent),\n",
    "                afwGeom.Extent2I(xDataExtent, v_overscan),\n",
    "            ))\n",
    "            record.setRawPrescanBBox(afwGeom.Box2I())   # Should be set by an isrTask configuration\n",
    "            record.setRawXYOffset(afwGeom.Extent2I(ix*xRawExtent, iy*yRawExtent))\n",
    "            record.setReadoutCorner(readCorners[amp['readCorner']])\n",
    "            record.setGain(amp['gain'])\n",
    "            record.setReadNoise(amp['readNoise'])\n",
    "            record.setSaturation(amp['saturation'])\n",
    "            record.setHasRawInfo(True)\n",
    "            # flip data when assembling if in top of chip\n",
    "            flipX, flipY = amp.get(\"flipXY\")\n",
    "\n",
    "            record.setRawFlipX(flipX)\n",
    "            record.setRawFlipY(flipY)\n",
    "            # linearity placeholder stuff\n",
    "            record.setLinearityCoeffs([float(val) for val in amp['linearityCoeffs']])\n",
    "            record.setLinearityType(amp['linearityType'])\n",
    "            record.set(linThreshKey, float(amp['linearityThreshold']))\n",
    "            record.set(linMaxKey, float(amp['linearityMax']))\n",
    "            record.set(linUnitsKey, \"DN\")\n",
    "        return ampCatalog\n",
    "\n",
    "ts3 = Ts3(\"camera.yaml\")"
   ]
  },
  {
   "cell_type": "code",
   "execution_count": 4,
   "metadata": {
    "collapsed": false
   },
   "outputs": [],
   "source": [
    "import lsst.afw.cameraGeom.utils as cgUtils\n",
    "import lsst.afw.display as afwDisplay\n",
    "\n",
    "disp = afwDisplay.Display(1, 'ds9')\n",
    "\n",
    "if True:\n",
    "    mos = cgUtils.showCamera(ts3, overlay=True, display=disp)\n",
    "else:\n",
    "    mos = cgUtils.showCcd(ts3[1], overlay=True, display=disp)"
   ]
  },
  {
   "cell_type": "code",
   "execution_count": 6,
   "metadata": {
    "collapsed": false
   },
   "outputs": [
    {
     "data": {
      "image/png": "[encoded data removed]",
      "text/plain": [
       "<matplotlib.figure.Figure at 0x1126e7f10>"
      ]
     },
     "metadata": {},
     "output_type": "display_data"
    }
   ],
   "source": [
    "cgUtils.plotFocalPlane(ts3)"
   ]
  },
  {
   "cell_type": "code",
   "execution_count": 30,
   "metadata": {
    "collapsed": true
   },
   "outputs": [],
   "source": [
    "#from lsst.obs.ts3 import Ts3 as oTs3\n",
    "import lsst.obs.ts3.ts3 as ots3\n",
    "\n",
    "ots3 = ots3.Ts3()\n",
    "\n",
    "disp2 = afwDisplay.Display(2, 'ds9')\n",
    "\n",
    "mos = cgUtils.showCcd(list(ots3)[0], overlay=True, display=disp2)"
   ]
  },
  {
   "cell_type": "code",
   "execution_count": null,
   "metadata": {
    "collapsed": true
   },
   "outputs": [],
   "source": []
  }
 ],
 "metadata": {
  "anaconda-cloud": {},
  "kernelspec": {
   "display_name": "Python [default]",
   "language": "python",
   "name": "python2"
  },
  "language_info": {
   "codemirror_mode": {
    "name": "ipython",
    "version": 2
   },
   "file_extension": ".py",
   "mimetype": "text/x-python",
   "name": "python",
   "nbconvert_exporter": "python",
   "pygments_lexer": "ipython2",
   "version": "2.7.12"
  }
 },
 "nbformat": 4,
 "nbformat_minor": 0
}
